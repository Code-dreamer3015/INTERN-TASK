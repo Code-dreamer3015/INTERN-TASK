{
 "cells": [
  {
   "cell_type": "markdown",
   "id": "10056453",
   "metadata": {},
   "source": [
    "# Exploratory Data Analysis (EDA) on Retail Dataset\n",
    "\n",
    "## Objectives:\n",
    "- Understand and summarize the structure of raw retail sales data.\n",
    "- Identify sales trends, patterns, and seasonality using graphs.\n",
    "- Present key KPIs such as Total Sales, Revenue per Category, and Average Order Value.\n",
    "\n",
    "## Tools:\n",
    "- Python (Pandas, Matplotlib, Seaborn)\n",
    "\n",
    "## Deliverable:\n",
    "- Jupyter Notebook with Visualizations and Explanations"
   ]
  },
  {
   "cell_type": "code",
   "execution_count": null,
   "id": "c7069a2b",
   "metadata": {},
   "outputs": [],
   "source": [
    "import pandas as pd\n",
    "import matplotlib.pyplot as plt\n",
    "import seaborn as sns\n",
    "import numpy as np\n",
    "\n",
    "# Load dataset\n",
    "df = pd.read_csv('Retail Sales Analysis_utf.csv')"
   ]
  },
  {
   "cell_type": "markdown",
   "id": "71148225",
   "metadata": {},
   "source": [
    "## Data Cleaning\n",
    "Fill missing values and convert dates."
   ]
  },
  {
   "cell_type": "code",
   "execution_count": null,
   "id": "6d7f0c44",
   "metadata": {},
   "outputs": [],
   "source": [
    "df['age'].fillna(df['age'].median(), inplace=True)\n",
    "df['quantiy'].fillna(df['quantiy'].median(), inplace=True)\n",
    "df['price_per_unit'].fillna(df['price_per_unit'].median(), inplace=True)\n",
    "df['cogs'].fillna(df['cogs'].median(), inplace=True)\n",
    "df['total_sale'].fillna(df['total_sale'].median(), inplace=True)\n",
    "df['sale_date'] = pd.to_datetime(df['sale_date'])\n",
    "df['month'] = df['sale_date'].dt.to_period('M')\n",
    "df['day_of_week'] = df['sale_date'].dt.day_name()"
   ]
  },
  {
   "cell_type": "markdown",
   "id": "2869db78",
   "metadata": {},
   "source": [
    "## Dataset Overview"
   ]
  },
  {
   "cell_type": "code",
   "execution_count": null,
   "id": "208d9e88",
   "metadata": {},
   "outputs": [],
   "source": [
    "df.info()\n",
    "df.describe()\n",
    "df.head()"
   ]
  },
  {
   "cell_type": "markdown",
   "id": "0e56b697",
   "metadata": {},
   "source": [
    "## Total Sales Over Time"
   ]
  },
  {
   "cell_type": "code",
   "execution_count": null,
   "id": "6d183b8c",
   "metadata": {},
   "outputs": [],
   "source": [
    "monthly_sales = df.groupby('month')['total_sale'].sum()\n",
    "monthly_sales.plot(kind='line', figsize=(10,6), title='Total Sales by Month')\n",
    "plt.ylabel('Total Sales')\n",
    "plt.xlabel('Month')\n",
    "plt.show()"
   ]
  },
  {
   "cell_type": "markdown",
   "id": "634d3b37",
   "metadata": {},
   "source": [
    "## Revenue per Category"
   ]
  },
  {
   "cell_type": "code",
   "execution_count": null,
   "id": "c617310d",
   "metadata": {},
   "outputs": [],
   "source": [
    "category_sales = df.groupby('category')['total_sale'].sum().sort_values(ascending=False)\n",
    "sns.barplot(x=category_sales.index, y=category_sales.values)\n",
    "plt.title('Revenue per Category')\n",
    "plt.ylabel('Total Sales')\n",
    "plt.xlabel('Category')\n",
    "plt.show()"
   ]
  },
  {
   "cell_type": "markdown",
   "id": "4281e17f",
   "metadata": {},
   "source": [
    "## Average Order Value"
   ]
  },
  {
   "cell_type": "code",
   "execution_count": null,
   "id": "9cc30dc8",
   "metadata": {},
   "outputs": [],
   "source": [
    "aov = df['total_sale'].mean()\n",
    "print(f'Average Order Value: ₹{aov:.2f}')"
   ]
  },
  {
   "cell_type": "markdown",
   "id": "bfc5cbcd",
   "metadata": {},
   "source": [
    "## Sales by Gender"
   ]
  },
  {
   "cell_type": "code",
   "execution_count": null,
   "id": "fcc7df10",
   "metadata": {},
   "outputs": [],
   "source": [
    "gender_sales = df.groupby('gender')['total_sale'].sum()\n",
    "sns.barplot(x=gender_sales.index, y=gender_sales.values)\n",
    "plt.title('Sales by Gender')\n",
    "plt.ylabel('Total Sales')\n",
    "plt.xlabel('Gender')\n",
    "plt.show()"
   ]
  },
  {
   "cell_type": "markdown",
   "id": "587ac5db",
   "metadata": {},
   "source": [
    "## Sales by Day of Week"
   ]
  },
  {
   "cell_type": "code",
   "execution_count": null,
   "id": "d362435d",
   "metadata": {},
   "outputs": [],
   "source": [
    "dow_sales = df.groupby('day_of_week')['total_sale'].sum()\n",
    "dow_order = ['Monday', 'Tuesday', 'Wednesday', 'Thursday', 'Friday', 'Saturday', 'Sunday']\n",
    "dow_sales = dow_sales.reindex(dow_order)\n",
    "sns.barplot(x=dow_sales.index, y=dow_sales.values)\n",
    "plt.title('Sales by Day of Week')\n",
    "plt.ylabel('Total Sales')\n",
    "plt.xlabel('Day of Week')\n",
    "plt.xticks(rotation=45)\n",
    "plt.show()"
   ]
  }
 ],
 "metadata": {},
 "nbformat": 4,
 "nbformat_minor": 5
}
